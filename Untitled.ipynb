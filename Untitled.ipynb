{
 "cells": [
  {
   "cell_type": "code",
   "execution_count": 33,
   "id": "655c29a1-797d-4067-8873-3ca4c9e900f1",
   "metadata": {},
   "outputs": [
    {
     "name": "stdout",
     "output_type": "stream",
     "text": [
      "https://us.etrade.com/e/t/etws/authorize?key=a694bf19a1a7ee1724e35a21e626bffe&token=KCA0ANGFEvLDbzY4Ot5oI8g+EmECITKxfVZV1iCfrWU=\n"
     ]
    },
    {
     "name": "stdin",
     "output_type": "stream",
     "text": [
      "Enter verification code:  G2OYM\n"
     ]
    },
    {
     "name": "stdout",
     "output_type": "stream",
     "text": [
      "{'oauth_token': '7twg/26q+sl2nOyvPp9G+d7Dzq0t2arR9PXjZBgNXrQ=', 'oauth_token_secret': 'Gllie0GnID5+3nSlNVrUT5NT+5bauD8EHHG9yE3X3Fw='}\n"
     ]
    }
   ],
   "source": [
    "import pyetrade\n",
    "\n",
    "consumer_key = \"a694bf19a1a7ee1724e35a21e626bffe\"\n",
    "consumer_secret = \"c52c35186ec76bcbe37e308e2e37d942e179dc07921efb3c79094b525785dd25\"\n",
    "\n",
    "oauth = pyetrade.ETradeOAuth(consumer_key, consumer_secret)\n",
    "print(oauth.get_request_token())  # Use the printed URL\n",
    "\n",
    "verifier_code = input(\"Enter verification code: \")\n",
    "tokens = oauth.get_access_token(verifier_code)\n",
    "print(tokens)"
   ]
  },
  {
   "cell_type": "code",
   "execution_count": 34,
   "id": "c09101d0-7f72-45e8-bc18-328cfd83131a",
   "metadata": {},
   "outputs": [],
   "source": [
    "tokens = {'oauth_token': '7twg/26q+sl2nOyvPp9G+d7Dzq0t2arR9PXjZBgNXrQ=',\n",
    "          'oauth_token_secret': 'Gllie0GnID5+3nSlNVrUT5NT+5bauD8EHHG9yE3X3Fw='}"
   ]
  },
  {
   "cell_type": "code",
   "execution_count": 35,
   "id": "46574c32-dbf3-4eaa-b2cd-f574a9087567",
   "metadata": {
    "tags": []
   },
   "outputs": [
    {
     "name": "stdout",
     "output_type": "stream",
     "text": [
      "OrderedDict([('AccountListResponse', OrderedDict([('Accounts', OrderedDict([('Account', [OrderedDict([('accountId', '63122977'), ('accountIdKey', '8zsNqQNS6dtTVgsJNkn4JQ'), ('accountMode', 'CASH'), ('accountDesc', 'Joint JTWROS'), ('accountName', None), ('accountType', 'JTWROS'), ('institutionType', 'BROKERAGE'), ('accountStatus', 'ACTIVE'), ('closedDate', '0')]), OrderedDict([('accountId', '64984536'), ('accountIdKey', '3dMrI4LU5YH1DNN4OsZj7A'), ('accountMode', 'MARGIN'), ('accountDesc', 'Joint JTWROS'), ('accountName', None), ('accountType', 'JTWROS'), ('institutionType', 'BROKERAGE'), ('accountStatus', 'DISABLED'), ('closedDate', '1195096980')]), OrderedDict([('accountId', '69994766'), ('accountIdKey', '0vvCs2TypHO0cZM2wAnLAw'), ('accountMode', 'CASH'), ('accountDesc', 'Roth IRA'), ('accountName', None), ('accountType', 'ROTHIRA'), ('institutionType', 'BROKERAGE'), ('accountStatus', 'ACTIVE'), ('closedDate', '0')])])]))]))])\n"
     ]
    }
   ],
   "source": [
    "# example call to pull account info\n",
    "accounts = pyetrade.ETradeAccounts(\n",
    "    consumer_key,\n",
    "    consumer_secret,\n",
    "    tokens['oauth_token'],\n",
    "    tokens['oauth_token_secret'],\n",
    "    dev=False\n",
    ")\n",
    "\n",
    "print(accounts.list_accounts())"
   ]
  },
  {
   "cell_type": "code",
   "execution_count": 46,
   "id": "af5408c2-d9b9-4ebe-9ed8-0e3730b1ae12",
   "metadata": {},
   "outputs": [],
   "source": [
    "# pull option chains\n",
    "market = pyetrade.ETradeMarket(\n",
    "    consumer_key,\n",
    "    consumer_secret,\n",
    "    tokens['oauth_token'],\n",
    "    tokens['oauth_token_secret'],\n",
    "    dev=False\n",
    ")\n",
    "\n",
    "option_chains = market.get_option_chains(underlier=\"GOOG\", expiry_date=None)[\"OptionChainResponse\"]"
   ]
  },
  {
   "cell_type": "code",
   "execution_count": 61,
   "id": "aeb364cb-a8c5-49a2-b3cd-18dfa3e3cfb4",
   "metadata": {},
   "outputs": [],
   "source": [
    "dts = market.get_option_expire_date(underlier=\"AMZN\")"
   ]
  },
  {
   "cell_type": "code",
   "execution_count": 62,
   "id": "afde8899-8bb7-4d2c-9d29-6139e508e29e",
   "metadata": {},
   "outputs": [
    {
     "data": {
      "text/plain": [
       "[OrderedDict([('year', '2021'),\n",
       "              ('month', '11'),\n",
       "              ('day', '5'),\n",
       "              ('expiryType', 'WEEKLY')]),\n",
       " OrderedDict([('year', '2021'),\n",
       "              ('month', '11'),\n",
       "              ('day', '12'),\n",
       "              ('expiryType', 'WEEKLY')]),\n",
       " OrderedDict([('year', '2021'),\n",
       "              ('month', '11'),\n",
       "              ('day', '19'),\n",
       "              ('expiryType', 'MONTHLY')]),\n",
       " OrderedDict([('year', '2021'),\n",
       "              ('month', '11'),\n",
       "              ('day', '26'),\n",
       "              ('expiryType', 'WEEKLY')]),\n",
       " OrderedDict([('year', '2021'),\n",
       "              ('month', '12'),\n",
       "              ('day', '3'),\n",
       "              ('expiryType', 'WEEKLY')]),\n",
       " OrderedDict([('year', '2021'),\n",
       "              ('month', '12'),\n",
       "              ('day', '10'),\n",
       "              ('expiryType', 'WEEKLY')]),\n",
       " OrderedDict([('year', '2021'),\n",
       "              ('month', '12'),\n",
       "              ('day', '17'),\n",
       "              ('expiryType', 'MONTHLY')]),\n",
       " OrderedDict([('year', '2022'),\n",
       "              ('month', '1'),\n",
       "              ('day', '21'),\n",
       "              ('expiryType', 'MONTHLY')]),\n",
       " OrderedDict([('year', '2022'),\n",
       "              ('month', '2'),\n",
       "              ('day', '18'),\n",
       "              ('expiryType', 'MONTHLY')]),\n",
       " OrderedDict([('year', '2022'),\n",
       "              ('month', '3'),\n",
       "              ('day', '18'),\n",
       "              ('expiryType', 'MONTHLY')]),\n",
       " OrderedDict([('year', '2022'),\n",
       "              ('month', '4'),\n",
       "              ('day', '14'),\n",
       "              ('expiryType', 'MONTHLY')]),\n",
       " OrderedDict([('year', '2022'),\n",
       "              ('month', '6'),\n",
       "              ('day', '17'),\n",
       "              ('expiryType', 'MONTHLY')]),\n",
       " OrderedDict([('year', '2022'),\n",
       "              ('month', '9'),\n",
       "              ('day', '16'),\n",
       "              ('expiryType', 'MONTHLY')]),\n",
       " OrderedDict([('year', '2023'),\n",
       "              ('month', '1'),\n",
       "              ('day', '20'),\n",
       "              ('expiryType', 'MONTHLY')]),\n",
       " OrderedDict([('year', '2023'),\n",
       "              ('month', '3'),\n",
       "              ('day', '17'),\n",
       "              ('expiryType', 'MONTHLY')]),\n",
       " OrderedDict([('year', '2023'),\n",
       "              ('month', '6'),\n",
       "              ('day', '16'),\n",
       "              ('expiryType', 'MONTHLY')]),\n",
       " OrderedDict([('year', '2024'),\n",
       "              ('month', '1'),\n",
       "              ('day', '19'),\n",
       "              ('expiryType', 'MONTHLY')])]"
      ]
     },
     "execution_count": 62,
     "metadata": {},
     "output_type": "execute_result"
    }
   ],
   "source": [
    "dts[\"OptionExpireDateResponse\"][\"ExpirationDate\"]"
   ]
  },
  {
   "cell_type": "code",
   "execution_count": 54,
   "id": "02401322-f776-46e3-8bd5-7ca85f4d2fee",
   "metadata": {},
   "outputs": [
    {
     "data": {
      "text/plain": [
       "1"
      ]
     },
     "execution_count": 54,
     "metadata": {},
     "output_type": "execute_result"
    }
   ],
   "source": [
    "len(dts)"
   ]
  },
  {
   "cell_type": "code",
   "execution_count": 37,
   "id": "d3df1b80-15d3-4ae0-b063-0b93cdfeaf6e",
   "metadata": {},
   "outputs": [
    {
     "data": {
      "text/plain": [
       "odict_keys(['OptionPair', 'timeStamp', 'quoteType', 'nearPrice', 'SelectedED'])"
      ]
     },
     "execution_count": 37,
     "metadata": {},
     "output_type": "execute_result"
    }
   ],
   "source": [
    "option_chains.keys()"
   ]
  },
  {
   "cell_type": "code",
   "execution_count": 41,
   "id": "4fa3fe2a-4dcf-44d8-a21c-d055fa860bf3",
   "metadata": {},
   "outputs": [],
   "source": [
    "option_pairs = option_chains[\"OptionPair\"]"
   ]
  },
  {
   "cell_type": "code",
   "execution_count": 26,
   "id": "36476ecb-eaf7-4db0-af93-a3ff3e3f5d7c",
   "metadata": {},
   "outputs": [
    {
     "data": {
      "text/plain": [
       "229"
      ]
     },
     "execution_count": 26,
     "metadata": {},
     "output_type": "execute_result"
    }
   ],
   "source": [
    "len(option_pairs)"
   ]
  },
  {
   "cell_type": "code",
   "execution_count": 30,
   "id": "97c3254e-778e-40ad-b3f8-70eaba46e367",
   "metadata": {},
   "outputs": [],
   "source": [
    "first_pair = option_pairs[0]"
   ]
  },
  {
   "cell_type": "code",
   "execution_count": 31,
   "id": "1a397f31-d2b8-4747-a2b2-4050beab946c",
   "metadata": {},
   "outputs": [
    {
     "data": {
      "text/plain": [
       "odict_keys(['Call', 'Put'])"
      ]
     },
     "execution_count": 31,
     "metadata": {},
     "output_type": "execute_result"
    }
   ],
   "source": [
    "first_pair.keys()"
   ]
  },
  {
   "cell_type": "code",
   "execution_count": 42,
   "id": "d82edc43-1f2f-49dc-8a0b-d15b08065179",
   "metadata": {},
   "outputs": [
    {
     "data": {
      "text/plain": [
       "OrderedDict([('optionCategory', 'STANDARD'),\n",
       "             ('optionRootSymbol', 'GOOG'),\n",
       "             ('timeStamp', '1635946324'),\n",
       "             ('adjustedFlag', 'false'),\n",
       "             ('displaySymbol', \"GOOG Nov 05 '21 $1520 Put\"),\n",
       "             ('optionType', 'PUT'),\n",
       "             ('strikePrice', '1520.0'),\n",
       "             ('symbol', 'GOOG'),\n",
       "             ('bid', '0.0'),\n",
       "             ('ask', '0.05'),\n",
       "             ('bidSize', '0'),\n",
       "             ('askSize', '1'),\n",
       "             ('inTheMoney', 'n'),\n",
       "             ('volume', '0'),\n",
       "             ('openInterest', '1'),\n",
       "             ('netChange', '0.0'),\n",
       "             ('lastPrice', '0.05'),\n",
       "             ('quoteDetail',\n",
       "              'https://api.etrade.com/v1/market/quote/GOOG:2021:11:5:PUT:1520.000000'),\n",
       "             ('osiKey', 'GOOG--211105P01520000'),\n",
       "             ('OptionGreeks',\n",
       "              OrderedDict([('rho', '0.000000'),\n",
       "                           ('vega', '0.001500'),\n",
       "                           ('theta', '-0.024900'),\n",
       "                           ('delta', '-0.000200'),\n",
       "                           ('gamma', '0.000000'),\n",
       "                           ('iv', '2.562300'),\n",
       "                           ('currentValue', 'false')]))])"
      ]
     },
     "execution_count": 42,
     "metadata": {},
     "output_type": "execute_result"
    }
   ],
   "source": [
    "first_pair[\"Put\"]"
   ]
  },
  {
   "cell_type": "code",
   "execution_count": 43,
   "id": "1a161d32-ef37-40b3-b460-7768d95d1437",
   "metadata": {},
   "outputs": [
    {
     "ename": "SyntaxError",
     "evalue": "EOF while scanning triple-quoted string literal (<ipython-input-43-3a2a2b751b8d>, line 6)",
     "output_type": "error",
     "traceback": [
      "\u001b[0;36m  File \u001b[0;32m\"<ipython-input-43-3a2a2b751b8d>\"\u001b[0;36m, line \u001b[0;32m6\u001b[0m\n\u001b[0;31m    \u001b[0m\n\u001b[0m    ^\u001b[0m\n\u001b[0;31mSyntaxError\u001b[0m\u001b[0;31m:\u001b[0m EOF while scanning triple-quoted string literal\n"
     ]
    }
   ],
   "source": [
    "min_perc, max_perc, increment, expi\n",
    "\n",
    "\"\"\"\n",
    "inputs:\n",
    "\n",
    "(all related to calcing strikes)\n",
    "min_perc: \n",
    "max_perc:\n",
    "increment (options 1,2.5..)\n",
    "\n",
    "(related to calcing expiries)\n",
    "either expiry option a or b: \n",
    "- calls option_get_expire_date and filters to get some subset of dates\n",
    "- each of these dates is one call to get_option_chain\n",
    "\n",
    "flag for hide 0 contract\n",
    "flag for hide 0 interest\n",
    "number of contracts being sold\n",
    "\n",
    "outputs:\n",
    "\n",
    "name of stock\n",
    "price of stock\n",
    "for each strike, for each termination date\n",
    " - bid, ask, last, change, volume, open interest\n",
    " - notional principle -> number of contracts * 100 * strike\n",
    " - revenue -> mid(bid, ask) * 100\n",
    " - annualized return -> end date - current date annualized\n",
    " - below market -> market price - strike\n",
    " - annualized income -> annualize revenue\n",
    " - greeks\n",
    " \n",
    "\n",
    "\n",
    "\n",
    "\"\"\""
   ]
  },
  {
   "cell_type": "code",
   "execution_count": 66,
   "id": "3637bf8a-9566-40fe-a34e-fc4502de705d",
   "metadata": {},
   "outputs": [
    {
     "ename": "ModuleNotFoundError",
     "evalue": "No module named 'options_manager'",
     "output_type": "error",
     "traceback": [
      "\u001b[0;31m---------------------------------------------------------------------------\u001b[0m",
      "\u001b[0;31mModuleNotFoundError\u001b[0m                       Traceback (most recent call last)",
      "\u001b[0;32m<ipython-input-66-540512707972>\u001b[0m in \u001b[0;36m<module>\u001b[0;34m\u001b[0m\n\u001b[0;32m----> 1\u001b[0;31m \u001b[0;32mfrom\u001b[0m \u001b[0moptions_manager\u001b[0m \u001b[0;32mimport\u001b[0m \u001b[0mget_options_info\u001b[0m\u001b[0;34m\u001b[0m\u001b[0;34m\u001b[0m\u001b[0m\n\u001b[0m",
      "\u001b[0;31mModuleNotFoundError\u001b[0m: No module named 'options_manager'"
     ]
    }
   ],
   "source": [
    "from options_manager import get_options_info"
   ]
  },
  {
   "cell_type": "code",
   "execution_count": null,
   "id": "4b658c1d-45de-4d89-916c-9e57b763a540",
   "metadata": {},
   "outputs": [],
   "source": []
  },
  {
   "cell_type": "code",
   "execution_count": null,
   "id": "9eaf8298-ba90-44da-aa77-357925ca31de",
   "metadata": {},
   "outputs": [],
   "source": []
  }
 ],
 "metadata": {
  "kernelspec": {
   "display_name": "Python 3",
   "language": "python",
   "name": "python3"
  },
  "language_info": {
   "codemirror_mode": {
    "name": "ipython",
    "version": 3
   },
   "file_extension": ".py",
   "mimetype": "text/x-python",
   "name": "python",
   "nbconvert_exporter": "python",
   "pygments_lexer": "ipython3",
   "version": "3.9.5"
  }
 },
 "nbformat": 4,
 "nbformat_minor": 5
}
